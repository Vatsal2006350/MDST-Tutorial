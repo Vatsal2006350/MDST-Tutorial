{
 "cells": [
  {
   "cell_type": "markdown",
   "metadata": {
    "colab_type": "text",
    "id": "0a8IYAJUshu1"
   },
   "source": [
    "# Checkpoint 0 "
   ]
  },
  {
   "cell_type": "markdown",
   "metadata": {},
   "source": [
    "These exercises are a mix of Python and Pandas practice. Most should be no more than a few lines of code! "
   ]
  },
  {
   "cell_type": "code",
   "execution_count": 1,
   "metadata": {
    "colab": {},
    "colab_type": "code",
    "id": "Jo6wuTgkshu1"
   },
   "outputs": [],
   "source": [
    "# here is a Python list:\n",
    "\n",
    "a = [1, 2, 3, 4, 5, 6]\n"
   ]
  },
  {
   "cell_type": "code",
   "execution_count": 3,
   "id": "779d96b1",
   "metadata": {},
   "outputs": [
    {
     "name": "stdout",
     "output_type": "stream",
     "text": [
      "[4, 5, 6]\n"
     ]
    }
   ],
   "source": [
    "a_list = a[-3:]\n",
    "print(a_list)\n",
    "# get a list containing the last 3 elements of a\n",
    "# Yes, you can just type out [4, 5, 6] but we really want to see you demonstrate you know how to use list slicing in Python"
   ]
  },
  {
   "cell_type": "code",
   "execution_count": 7,
   "id": "b6a54def",
   "metadata": {},
   "outputs": [
    {
     "name": "stdout",
     "output_type": "stream",
     "text": [
      "range(1, 21)\n"
     ]
    }
   ],
   "source": [
    "# create a list of numbers from 1 to 20\n",
    "n_list = range(1,21)\n",
    "print (n_list)"
   ]
  },
  {
   "cell_type": "code",
   "execution_count": 8,
   "id": "487873ac",
   "metadata": {},
   "outputs": [
    {
     "name": "stdout",
     "output_type": "stream",
     "text": [
      "[2, 4, 6, 8, 10, 12, 14, 16, 18, 20, 22, 24, 26, 28, 30, 32, 34, 36, 38, 40, 42, 44, 46, 48, 50, 52, 54, 56, 58, 60, 62, 64, 66, 68, 70, 72, 74, 76, 78, 80, 82, 84, 86, 88, 90, 92, 94, 96, 98, 100]\n"
     ]
    }
   ],
   "source": [
    "even_numbers = list(range(2, 101, 2))\n",
    "print(even_numbers)\n",
    "\n",
    "\n",
    "# now get a list with only the even numbers between 1 and 100\n",
    "# you may or may not make use of the list you made in the last cell"
   ]
  },
  {
   "cell_type": "code",
   "execution_count": 9,
   "id": "3d4bb5dd",
   "metadata": {},
   "outputs": [],
   "source": [
    "# write a function that takes two numbers as arguments\n",
    "# and returns the first number divided by the second\n",
    "\n",
    "def two_num(num1, num2):\n",
    "    if num2 == 0:\n",
    "        return \"Division by zero is not allowed\"\n",
    "    return num1 / num2\n"
   ]
  },
  {
   "cell_type": "code",
   "execution_count": 12,
   "id": "f55df04e",
   "metadata": {},
   "outputs": [
    {
     "name": "stdout",
     "output_type": "stream",
     "text": [
      "1\n",
      "2\n",
      "fizz\n",
      "4\n",
      "buzz\n",
      "fizz\n",
      "7\n",
      "8\n",
      "fizz\n",
      "buzz\n",
      "11\n",
      "fizz\n",
      "13\n",
      "14\n",
      "fizzbuzz\n",
      "16\n",
      "17\n",
      "fizz\n",
      "19\n",
      "buzz\n",
      "fizz\n",
      "22\n",
      "23\n",
      "fizz\n",
      "buzz\n",
      "26\n",
      "fizz\n",
      "28\n",
      "29\n",
      "fizzbuzz\n"
     ]
    }
   ],
   "source": [
    "# fizzbuzz\n",
    "# you will need to use both iteration and control flow \n",
    "# go through all numbers from 1 to 30 in order\n",
    "# if the number is a multiple of 3, print fizz\n",
    "# if the number is a multiple of 5, print buzz\n",
    "# if the number is a multiple of 3 and 5, print fizzbuzz and NOTHING ELSE\n",
    "# if the number is neither a multiple of 3 nor a multiple of 5, print the number\n",
    "\n",
    "for i in range(1,31):\n",
    "    if (i % 3 == 0 and i % 5 == 0):\n",
    "        print(\"fizzbuzz\")\n",
    "    elif i % 3 == 0:\n",
    "        print(\"fizz\")\n",
    "    elif i % 5 ==0:\n",
    "        print(\"buzz\")\n",
    "    else:\n",
    "        print (i)"
   ]
  },
  {
   "cell_type": "code",
   "execution_count": null,
   "id": "78aace0b",
   "metadata": {},
   "outputs": [],
   "source": [
    "# create a dictionary that reflects the following menu pricing (taken from Ahmo's)\n",
    "# Gyro: $9 \n",
    "# Burger: $9\n",
    "# Greek Salad: $8\n",
    "# Philly Steak: $10\n",
    "\n",
    "food_dict = {\n",
    "    \"Gyro\": 9,\n",
    "    \"Burger\": 9,\n",
    "    \"Greek Salad\": 8,\n",
    "    \"Philly Steak\": 10\n",
    "    }\n",
    "print(food_dict)"
   ]
  },
  {
   "cell_type": "code",
   "execution_count": 18,
   "metadata": {
    "colab": {},
    "colab_type": "code",
    "id": "WzCQ5HOJshvA"
   },
   "outputs": [
    {
     "name": "stdout",
     "output_type": "stream",
     "text": [
      "<class 'pandas.core.frame.DataFrame'>\n"
     ]
    }
   ],
   "source": [
    "# load in the \"starbucks.csv\" dataset\n",
    "# refer to how we read the cereal.csv dataset in the tutorial\n",
    "\n",
    "df = pd.read_csv(\"../data/starbucks.csv\")\n",
    "print(type(df))\n",
    "\n",
    "\n"
   ]
  },
  {
   "cell_type": "code",
   "execution_count": 27,
   "id": "ac0f0c12",
   "metadata": {},
   "outputs": [
    {
     "name": "stdout",
     "output_type": "stream",
     "text": [
      "         beverage_category       beverage      beverage_prep  calories  \\\n",
      "0                   coffee  brewed coffee              Short         3   \n",
      "1                   coffee  brewed coffee               Tall         4   \n",
      "2                   coffee  brewed coffee             Grande         5   \n",
      "3                   coffee  brewed coffee              Venti         5   \n",
      "4  classic espresso drinks     caff latte  Short Nonfat Milk        70   \n",
      "\n",
      "   total fat  trans fat  saturated fat  sodium  total carbohydrates  \\\n",
      "0        0.1        0.0            0.0       0                    5   \n",
      "1        0.1        0.0            0.0       0                   10   \n",
      "2        0.1        0.0            0.0       0                   10   \n",
      "3        0.1        0.0            0.0       0                   10   \n",
      "4        0.1        0.1            0.0       5                   75   \n",
      "\n",
      "   cholesterol  dietary fibre  sugars  protein  vitamin a  vitamin c  calcium  \\\n",
      "0            0              0       0      0.3          0          0        0   \n",
      "1            0              0       0      0.5          0          0        0   \n",
      "2            0              0       0      1.0          0          0        0   \n",
      "3            0              0       0      1.0          0          0        2   \n",
      "4           10              0       9      6.0         10          0       20   \n",
      "\n",
      "   iron  caffeine  \n",
      "0   0.0     175.0  \n",
      "1   0.0     260.0  \n",
      "2   0.0     330.0  \n",
      "3   0.0     410.0  \n",
      "4   0.0      75.0  \n",
      "Index(['beverage_category', 'beverage', 'beverage_prep', 'calories',\n",
      "       'total fat', 'trans fat', 'saturated fat', 'sodium',\n",
      "       'total carbohydrates', 'cholesterol', 'dietary fibre', 'sugars',\n",
      "       'protein', 'vitamin a', 'vitamin c', 'calcium', 'iron', 'caffeine'],\n",
      "      dtype='object')\n"
     ]
    }
   ],
   "source": [
    "import pandas as pd\n",
    "\n",
    "# Load the starbucks.csv dataset\n",
    "df = pd.read_csv(\"../data/starbucks.csv\")\n",
    "\n",
    "# Display the first few rows of the DataFrame and the column names\n",
    "print(df.head())\n",
    "print(df.columns)\n"
   ]
  },
  {
   "cell_type": "code",
   "execution_count": 28,
   "id": "ee8f8241",
   "metadata": {},
   "outputs": [
    {
     "name": "stdout",
     "output_type": "stream",
     "text": [
      "         beverage_category       beverage      beverage_prep  calories  \\\n",
      "0                   coffee  brewed coffee              Short         3   \n",
      "1                   coffee  brewed coffee               Tall         4   \n",
      "2                   coffee  brewed coffee             Grande         5   \n",
      "3                   coffee  brewed coffee              Venti         5   \n",
      "4  classic espresso drinks     caff latte  Short Nonfat Milk        70   \n",
      "\n",
      "   total fat  trans fat  saturated fat  sodium  total carbohydrates  \\\n",
      "0        0.1        0.0            0.0       0                    5   \n",
      "1        0.1        0.0            0.0       0                   10   \n",
      "2        0.1        0.0            0.0       0                   10   \n",
      "3        0.1        0.0            0.0       0                   10   \n",
      "4        0.1        0.1            0.0       5                   75   \n",
      "\n",
      "   cholesterol  dietary fibre  sugars  protein  vitamin a  vitamin c  calcium  \\\n",
      "0            0              0       0      0.3          0          0        0   \n",
      "1            0              0       0      0.5          0          0        0   \n",
      "2            0              0       0      1.0          0          0        0   \n",
      "3            0              0       0      1.0          0          0        2   \n",
      "4           10              0       9      6.0         10          0       20   \n",
      "\n",
      "   iron  caffeine  \n",
      "0   0.0     175.0  \n",
      "1   0.0     260.0  \n",
      "2   0.0     330.0  \n",
      "3   0.0     410.0  \n",
      "4   0.0      75.0  \n",
      "Index(['beverage_category', 'beverage', 'beverage_prep', 'calories',\n",
      "       'total fat', 'trans fat', 'saturated fat', 'sodium',\n",
      "       'total carbohydrates', 'cholesterol', 'dietary fibre', 'sugars',\n",
      "       'protein', 'vitamin a', 'vitamin c', 'calcium', 'iron', 'caffeine'],\n",
      "      dtype='object')\n"
     ]
    }
   ],
   "source": [
    "import pandas as pd\n",
    "\n",
    "# Load the starbucks.csv dataset\n",
    "df = pd.read_csv(\"../data/starbucks.csv\")\n",
    "\n",
    "# Display the first few rows and the column names\n",
    "print(df.head())\n",
    "print(df.columns)\n"
   ]
  },
  {
   "cell_type": "code",
   "execution_count": 30,
   "id": "d4de48bb",
   "metadata": {},
   "outputs": [
    {
     "name": "stdout",
     "output_type": "stream",
     "text": [
      "Index(['beverage_category', 'beverage', 'beverage_prep', 'calories',\n",
      "       'total fat', 'trans fat', 'saturated fat', 'sodium',\n",
      "       'total carbohydrates', 'cholesterol', 'dietary fibre', 'sugars',\n",
      "       'protein', 'vitamin a', 'vitamin c', 'calcium', 'iron', 'caffeine'],\n",
      "      dtype='object')\n",
      "         beverage_category       beverage      beverage_prep  calories  \\\n",
      "0                   coffee  brewed coffee              Short         3   \n",
      "1                   coffee  brewed coffee               Tall         4   \n",
      "2                   coffee  brewed coffee             Grande         5   \n",
      "3                   coffee  brewed coffee              Venti         5   \n",
      "4  classic espresso drinks     caff latte  Short Nonfat Milk        70   \n",
      "\n",
      "   total fat  trans fat  saturated fat  sodium  total carbohydrates  \\\n",
      "0        0.1        0.0            0.0       0                    5   \n",
      "1        0.1        0.0            0.0       0                   10   \n",
      "2        0.1        0.0            0.0       0                   10   \n",
      "3        0.1        0.0            0.0       0                   10   \n",
      "4        0.1        0.1            0.0       5                   75   \n",
      "\n",
      "   cholesterol  dietary fibre  sugars  protein  vitamin a  vitamin c  calcium  \\\n",
      "0            0              0       0      0.3          0          0        0   \n",
      "1            0              0       0      0.5          0          0        0   \n",
      "2            0              0       0      1.0          0          0        0   \n",
      "3            0              0       0      1.0          0          0        2   \n",
      "4           10              0       9      6.0         10          0       20   \n",
      "\n",
      "   iron  caffeine  Caffeine_per_Calorie  \n",
      "0   0.0     175.0             58.333333  \n",
      "1   0.0     260.0             65.000000  \n",
      "2   0.0     330.0             66.000000  \n",
      "3   0.0     410.0             82.000000  \n",
      "4   0.0      75.0              1.071429  \n"
     ]
    }
   ],
   "source": [
    "import pandas as pd\n",
    "\n",
    "# Load the starbucks.csv dataset\n",
    "df = pd.read_csv(\"../data/starbucks.csv\")\n",
    "\n",
    "# Display the column names to confirm\n",
    "print(df.columns)\n",
    "\n",
    "# Create a new column 'Caffeine_per_Calorie'\n",
    "df['Caffeine_per_Calorie'] = df['caffeine'] / df['calories']\n",
    "\n",
    "# Display the updated DataFrame with the new column\n",
    "print(df.head())\n"
   ]
  },
  {
   "cell_type": "code",
   "execution_count": 31,
   "metadata": {
    "colab": {},
    "colab_type": "code",
    "id": "rIoxaSxHshvB"
   },
   "outputs": [
    {
     "name": "stdout",
     "output_type": "stream",
     "text": [
      "The average calorie content across all items is: 193.87\n"
     ]
    }
   ],
   "source": [
    "df = pd.read_csv(\"../data/starbucks.csv\")\n",
    "\n",
    "# Calculate the average calorie content\n",
    "average_calories = df['calories'].mean()\n",
    "\n",
    "# Display the result\n",
    "print(f\"The average calorie content across all items is: {average_calories:.2f}\")"
   ]
  },
  {
   "cell_type": "code",
   "execution_count": 32,
   "metadata": {
    "colab": {},
    "colab_type": "code",
    "id": "ABX7i49FshvD"
   },
   "outputs": [
    {
     "name": "stdout",
     "output_type": "stream",
     "text": [
      "There are 9 different beverage categories.\n"
     ]
    }
   ],
   "source": [
    "# how many different categories of beverages are there?\n",
    "num_categories = df['beverage_category'].nunique()\n",
    "print(f\"There are {num_categories} different beverage categories.\")"
   ]
  },
  {
   "cell_type": "code",
   "execution_count": 33,
   "metadata": {
    "colab": {},
    "colab_type": "code",
    "id": "P9QatZAzshvE"
   },
   "outputs": [
    {
     "name": "stdout",
     "output_type": "stream",
     "text": [
      "Average calories for each beverage category:\n",
      "beverage_category\n",
      "classic espresso drinks             140.172414\n",
      "coffee                                4.250000\n",
      "frappuccino blended coffee          276.944444\n",
      "frappuccino blended crme            233.076923\n",
      "frappuccino light blended coffee    162.500000\n",
      "shaken iced beverages               114.444444\n",
      "signature espresso drinks           250.000000\n",
      "smoothies                           282.222222\n",
      "tazo tea drinks                     177.307692\n",
      "Name: calories, dtype: float64\n"
     ]
    }
   ],
   "source": [
    "# what is the average # calories for each beverage category?\n",
    "average_calories_per_category = df.groupby('beverage_category')['calories'].mean()\n",
    "print(\"Average calories for each beverage category:\")\n",
    "print(average_calories_per_category)"
   ]
  }
 ],
 "metadata": {
  "kernelspec": {
   "display_name": "Python 3.9.0 64-bit",
   "language": "python",
   "name": "python3"
  },
  "language_info": {
   "codemirror_mode": {
    "name": "ipython",
    "version": 3
   },
   "file_extension": ".py",
   "mimetype": "text/x-python",
   "name": "python",
   "nbconvert_exporter": "python",
   "pygments_lexer": "ipython3",
   "version": "3.12.5"
  },
  "vscode": {
   "interpreter": {
    "hash": "6cf8df3ff69f85f626faf55c10df6fe2cb9d1236b4dc73844ee4dc01369c2c99"
   }
  }
 },
 "nbformat": 4,
 "nbformat_minor": 5
}
